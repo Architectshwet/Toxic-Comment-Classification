{
 "cells": [
  {
   "cell_type": "code",
   "execution_count": 1,
   "metadata": {
    "collapsed": true
   },
   "outputs": [],
   "source": [
    "import pandas as pd\n",
    "import numpy as np\n",
    "import matplotlib.pyplot as plt\n",
    "%matplotlib inline\n",
    "import seaborn as sns\n",
    "import re\n",
    "\n",
    "import pickle \n",
    "#import mglearn\n",
    "import time\n",
    "\n",
    "\n",
    "from nltk.tokenize import TweetTokenizer # doesn't split at apostrophes\n",
    "import nltk\n",
    "from nltk import Text\n",
    "from nltk.tokenize import regexp_tokenize\n",
    "from nltk.tokenize import word_tokenize  \n",
    "from nltk.tokenize import sent_tokenize \n",
    "from nltk.corpus import stopwords\n",
    "from nltk.stem import WordNetLemmatizer\n",
    "from nltk.stem import PorterStemmer"
   ]
  },
  {
   "cell_type": "code",
   "execution_count": 2,
   "metadata": {
    "collapsed": true
   },
   "outputs": [],
   "source": [
    "from sklearn.feature_extraction.text import CountVectorizer\n",
    "from sklearn.feature_extraction.text import TfidfVectorizer\n",
    "from sklearn.linear_model import LogisticRegression \n",
    "from sklearn.naive_bayes import MultinomialNB\n",
    "from sklearn.multiclass import OneVsRestClassifier\n",
    "\n",
    "\n",
    "from sklearn.model_selection import cross_val_score\n",
    "from sklearn.model_selection import train_test_split\n",
    "from sklearn import metrics\n",
    "from sklearn.metrics import classification_report\n",
    "from sklearn.metrics import confusion_matrix\n",
    "from sklearn.model_selection import GridSearchCV\n",
    "from sklearn.pipeline import make_pipeline"
   ]
  },
  {
   "cell_type": "code",
   "execution_count": 3,
   "metadata": {
    "collapsed": true
   },
   "outputs": [],
   "source": [
    "txt = [\"He is ::having a great Time, at the park time?\",\n",
    "       \"She, unlike most women, is a big player on the park's grass.\",\n",
    "       \"she can't be going\"]"
   ]
  },
  {
   "cell_type": "code",
   "execution_count": 4,
   "metadata": {},
   "outputs": [
    {
     "name": "stdout",
     "output_type": "stream",
     "text": [
      "Every feature:\n",
      "['big', 'going', 'grass', 'great', 'having', 'park', 'player', 'time', 'unlike', 'women']\n",
      "\n",
      "Every 3rd feature:\n",
      "['big', 'great', 'player', 'women']\n"
     ]
    }
   ],
   "source": [
    "# Initialize a CountVectorizer object: count_vectorizer\n",
    "count_vec = CountVectorizer(stop_words=\"english\", analyzer='word', \n",
    "                            ngram_range=(1, 1), max_df=1.0, min_df=1, max_features=None)\n",
    "\n",
    "# Transforms the data into a bag of words\n",
    "count_train = count_vec.fit(txt)\n",
    "bag_of_words = count_vec.transform(txt)\n",
    "\n",
    "# Print the first 10 features of the count_vec\n",
    "print(\"Every feature:\\n{}\".format(count_vec.get_feature_names()))\n",
    "print(\"\\nEvery 3rd feature:\\n{}\".format(count_vec.get_feature_names()[::3]))"
   ]
  },
  {
   "cell_type": "code",
   "execution_count": 5,
   "metadata": {},
   "outputs": [
    {
     "name": "stdout",
     "output_type": "stream",
     "text": [
      "Vocabulary size: 10\n",
      "Vocabulary content:\n",
      " {'having': 4, 'great': 3, 'time': 7, 'park': 5, 'unlike': 8, 'women': 9, 'big': 0, 'player': 6, 'grass': 2, 'going': 1}\n"
     ]
    }
   ],
   "source": [
    "print(\"Vocabulary size: {}\".format(len(count_train.vocabulary_)))\n",
    "print(\"Vocabulary content:\\n {}\".format(count_train.vocabulary_))"
   ]
  },
  {
   "cell_type": "code",
   "execution_count": 7,
   "metadata": {},
   "outputs": [
    {
     "name": "stdout",
     "output_type": "stream",
     "text": [
      "['big', 'big player', 'going', 'grass', 'great', 'great time', 'having', 'having great', 'park', 'park grass', 'park time', 'player', 'player park', 'time', 'time park', 'unlike', 'unlike women', 'women', 'women big']\n"
     ]
    }
   ],
   "source": [
    "count_vec = CountVectorizer(stop_words=\"english\", analyzer='word', \n",
    "                            ngram_range=(1, 2), max_df=1.0, min_df=1, max_features=None)\n",
    "\n",
    "count_train = count_vec.fit(txt)\n",
    "bag_of_words = count_vec.transform(txt)\n",
    "\n",
    "print(count_vec.get_feature_names())"
   ]
  },
  {
   "cell_type": "code",
   "execution_count": 8,
   "metadata": {},
   "outputs": [
    {
     "name": "stdout",
     "output_type": "stream",
     "text": [
      "['big', 'big player', 'big player park', 'going', 'grass', 'great', 'great time', 'great time park', 'having', 'having great', 'having great time', 'park', 'park grass', 'park time', 'player', 'player park', 'player park grass', 'time', 'time park', 'time park time', 'unlike', 'unlike women', 'unlike women big', 'women', 'women big', 'women big player']\n"
     ]
    }
   ],
   "source": [
    "count_vec = CountVectorizer(stop_words=\"english\", analyzer='word', \n",
    "                            ngram_range=(1, 3), max_df=1.0, min_df=1, max_features=None)\n",
    "\n",
    "count_train = count_vec.fit(txt)\n",
    "bag_of_words = count_vec.transform(txt)\n",
    "\n",
    "print(count_vec.get_feature_names())"
   ]
  },
  {
   "cell_type": "code",
   "execution_count": 9,
   "metadata": {},
   "outputs": [
    {
     "name": "stdout",
     "output_type": "stream",
     "text": [
      "['park']\n",
      "\n",
      "Only 'park' becomes the vocabulary of the document term matrix (dtm) because it appears in 2 out of 3 documents, meaning 0.66% of the time.      \n",
      "The rest of the words such as 'big' appear only in 1 out of 3 documents, meaning 0.33%. which is why they don't appear\n"
     ]
    }
   ],
   "source": [
    "count_vec = CountVectorizer(stop_words=\"english\", analyzer='word', \n",
    "                            ngram_range=(1, 1), max_df=1.0, min_df=0.6, max_features=None)\n",
    "\n",
    "count_train = count_vec.fit(txt)\n",
    "bag_of_words = count_vec.transform(txt)\n",
    "\n",
    "print(count_vec.get_feature_names())\n",
    "print(\"\\nOnly 'park' becomes the vocabulary of the document term matrix (dtm) because it appears in 2 out of 3 documents, \\\n",
    "meaning 0.66% of the time.\\\n",
    "      \\nThe rest of the words such as 'big' appear only in 1 out of 3 documents, meaning 0.33%. which is why they don't appear\")"
   ]
  },
  {
   "cell_type": "code",
   "execution_count": 10,
   "metadata": {},
   "outputs": [
    {
     "name": "stdout",
     "output_type": "stream",
     "text": [
      "['big', 'going', 'grass', 'great', 'having', 'player', 'time', 'unlike', 'women']\n",
      "\n",
      "Only 'park' is ignored because it appears in 2 out of 3 documents, meaning 0.66% of the time.\n"
     ]
    }
   ],
   "source": [
    "count_vec = CountVectorizer(stop_words=\"english\", analyzer='word', \n",
    "                            ngram_range=(1, 1), max_df=0.50, min_df=1, max_features=None)\n",
    "\n",
    "count_train = count_vec.fit(txt)\n",
    "bag_of_words = count_vec.transform(txt)\n",
    "\n",
    "print(count_vec.get_feature_names())\n",
    "print(\"\\nOnly 'park' is ignored because it appears in 2 out of 3 documents, meaning 0.66% of the time.\")"
   ]
  },
  {
   "cell_type": "code",
   "execution_count": 11,
   "metadata": {},
   "outputs": [
    {
     "name": "stdout",
     "output_type": "stream",
     "text": [
      "['big', 'going', 'park', 'time']\n"
     ]
    }
   ],
   "source": [
    "count_vec = CountVectorizer(stop_words=\"english\", analyzer='word', \n",
    "                            ngram_range=(1, 1), max_df=1.0, min_df=1, max_features=4)\n",
    "\n",
    "count_train = count_vec.fit(txt)\n",
    "bag_of_words = count_vec.transform(txt)\n",
    "\n",
    "print(count_vec.get_feature_names())"
   ]
  },
  {
   "cell_type": "markdown",
   "metadata": {},
   "source": [
    "### TfidfVectorizer -- Brief Tutorial\n",
    "\n",
    "The goal of using tf-idf is to scale down the impact of tokens that occur very frequently in a given corpus and that are hence empirically less informative than features that occur in a small fraction of the training corpus. (https://github.com/scikit-learn/scikit-learn/blob/a24c8b46/sklearn/feature_extraction/text.py#L1365)"
   ]
  },
  {
   "cell_type": "code",
   "execution_count": 12,
   "metadata": {},
   "outputs": [
    {
     "name": "stdout",
     "output_type": "stream",
     "text": [
      "The text:  ['His smile was not perfect', 'His smile was not not not not perfect', 'she not sang']\n"
     ]
    }
   ],
   "source": [
    "txt1 = ['His smile was not perfect', 'His smile was not not not not perfect', 'she not sang']\n",
    "tf = TfidfVectorizer(smooth_idf=False, sublinear_tf=False, norm=None, analyzer='word')\n",
    "txt_fitted = tf.fit(txt1)\n",
    "txt_transformed = txt_fitted.transform(txt1)\n",
    "print (\"The text: \", txt1)"
   ]
  },
  {
   "cell_type": "code",
   "execution_count": 13,
   "metadata": {},
   "outputs": [
    {
     "data": {
      "text/plain": [
       "{'his': 0, 'not': 1, 'perfect': 2, 'sang': 3, 'she': 4, 'smile': 5, 'was': 6}"
      ]
     },
     "execution_count": 13,
     "metadata": {},
     "output_type": "execute_result"
    }
   ],
   "source": [
    "tf.vocabulary_"
   ]
  },
  {
   "cell_type": "code",
   "execution_count": 14,
   "metadata": {},
   "outputs": [
    {
     "name": "stdout",
     "output_type": "stream",
     "text": [
      "{'his': 1.4054651081081644, 'not': 1.0, 'perfect': 1.4054651081081644, 'sang': 2.09861228866811, 'she': 2.09861228866811, 'smile': 1.4054651081081644, 'was': 1.4054651081081644}\n",
      "\n",
      "We see that the tokens 'sang','she' have the most idf weight because they are the only tokens that appear in one document only.\n",
      "\n",
      "The token 'not' appears 6 times but it is also in all documents, so its idf is the lowest\n"
     ]
    }
   ],
   "source": [
    "idf = tf.idf_\n",
    "print(dict(zip(txt_fitted.get_feature_names(), idf)))\n",
    "print(\"\\nWe see that the tokens 'sang','she' have the most idf weight because \\\n",
    "they are the only tokens that appear in one document only.\")\n",
    "print(\"\\nThe token 'not' appears 6 times but it is also in all documents, so its idf is the lowest\")"
   ]
  },
  {
   "cell_type": "code",
   "execution_count": 15,
   "metadata": {
    "collapsed": true
   },
   "outputs": [],
   "source": [
    "rr = dict(zip(txt_fitted.get_feature_names(), idf))"
   ]
  },
  {
   "cell_type": "code",
   "execution_count": 16,
   "metadata": {},
   "outputs": [
    {
     "data": {
      "text/plain": [
       "{'his': 1.4054651081081644,\n",
       " 'not': 1.0,\n",
       " 'perfect': 1.4054651081081644,\n",
       " 'sang': 2.09861228866811,\n",
       " 'she': 2.09861228866811,\n",
       " 'smile': 1.4054651081081644,\n",
       " 'was': 1.4054651081081644}"
      ]
     },
     "execution_count": 16,
     "metadata": {},
     "output_type": "execute_result"
    }
   ],
   "source": [
    "rr"
   ]
  },
  {
   "cell_type": "code",
   "execution_count": 17,
   "metadata": {},
   "outputs": [
    {
     "data": {
      "image/png": "[encoded data removed]",
      "text/plain": [
       "<Figure size 720x360 with 1 Axes>"
      ]
     },
     "metadata": {},
     "output_type": "display_data"
    }
   ],
   "source": [
    "token_weight = pd.DataFrame.from_dict(rr, orient='index').reset_index()\n",
    "token_weight.columns=('token','weight')\n",
    "token_weight = token_weight.sort_values(by='weight', ascending=False)\n",
    "token_weight \n",
    "\n",
    "sns.barplot(x='token', y='weight', data=token_weight)            \n",
    "plt.title(\"Inverse Document Frequency(idf) per token\")\n",
    "fig=plt.gcf()\n",
    "fig.set_size_inches(10,5)\n",
    "plt.show()"
   ]
  },
  {
   "cell_type": "code",
   "execution_count": 18,
   "metadata": {},
   "outputs": [
    {
     "name": "stdout",
     "output_type": "stream",
     "text": [
      "Features with lowest idf:\n",
      "['not' 'his' 'perfect']\n",
      "\n",
      "Features with highest idf:\n",
      "['was' 'sang' 'she']\n"
     ]
    }
   ],
   "source": [
    "# get feature names\n",
    "feature_names = np.array(tf.get_feature_names())\n",
    "sorted_by_idf = np.argsort(tf.idf_)\n",
    "print(\"Features with lowest idf:\\n{}\".format(\n",
    "       feature_names[sorted_by_idf[:3]]))\n",
    "print(\"\\nFeatures with highest idf:\\n{}\".format(\n",
    "       feature_names[sorted_by_idf[-3:]]))"
   ]
  },
  {
   "cell_type": "code",
   "execution_count": 19,
   "metadata": {},
   "outputs": [
    {
     "name": "stdout",
     "output_type": "stream",
     "text": [
      "The token 'not' has  the largest weight in document #2 because it appears 3 times there. But in document #1 its weight is 0 because it does not appear there.\n"
     ]
    },
    {
     "data": {
      "text/plain": [
       "array([[ 1.40546511,  1.        ,  1.40546511,  0.        ,  0.        ,\n",
       "         1.40546511,  1.40546511],\n",
       "       [ 1.40546511,  4.        ,  1.40546511,  0.        ,  0.        ,\n",
       "         1.40546511,  1.40546511],\n",
       "       [ 0.        ,  1.        ,  0.        ,  2.09861229,  2.09861229,\n",
       "         0.        ,  0.        ]])"
      ]
     },
     "execution_count": 19,
     "metadata": {},
     "output_type": "execute_result"
    }
   ],
   "source": [
    "print(\"The token 'not' has  the largest weight in document #2 because it appears 3 times there. But in document #1\\\n",
    " its weight is 0 because it does not appear there.\")\n",
    "txt_transformed.toarray()"
   ]
  },
  {
   "cell_type": "markdown",
   "metadata": {},
   "source": [
    "TF-IDF - Maximum token value throughout the whole dataset"
   ]
  },
  {
   "cell_type": "code",
   "execution_count": 20,
   "metadata": {
    "collapsed": true
   },
   "outputs": [],
   "source": [
    "train = pd.read_csv('train.csv')\n",
    "holdout = pd.read_csv('test.csv').fillna(' ')"
   ]
  },
  {
   "cell_type": "code",
   "execution_count": 21,
   "metadata": {},
   "outputs": [
    {
     "data": {
      "text/html": [
       "<div>\n",
       "<style>\n",
       "    .dataframe thead tr:only-child th {\n",
       "        text-align: right;\n",
       "    }\n",
       "\n",
       "    .dataframe thead th {\n",
       "        text-align: left;\n",
       "    }\n",
       "\n",
       "    .dataframe tbody tr th {\n",
       "        vertical-align: top;\n",
       "    }\n",
       "</style>\n",
       "<table border=\"1\" class=\"dataframe\">\n",
       "  <thead>\n",
       "    <tr style=\"text-align: right;\">\n",
       "      <th></th>\n",
       "      <th>id</th>\n",
       "      <th>comment_text</th>\n",
       "      <th>toxic</th>\n",
       "      <th>severe_toxic</th>\n",
       "      <th>obscene</th>\n",
       "      <th>threat</th>\n",
       "      <th>insult</th>\n",
       "      <th>identity_hate</th>\n",
       "    </tr>\n",
       "  </thead>\n",
       "  <tbody>\n",
       "    <tr>\n",
       "      <th>0</th>\n",
       "      <td>0000997932d777bf</td>\n",
       "      <td>Explanation\\nWhy the edits made under my usern...</td>\n",
       "      <td>0</td>\n",
       "      <td>0</td>\n",
       "      <td>0</td>\n",
       "      <td>0</td>\n",
       "      <td>0</td>\n",
       "      <td>0</td>\n",
       "    </tr>\n",
       "    <tr>\n",
       "      <th>1</th>\n",
       "      <td>000103f0d9cfb60f</td>\n",
       "      <td>D'aww! He matches this background colour I'm s...</td>\n",
       "      <td>0</td>\n",
       "      <td>0</td>\n",
       "      <td>0</td>\n",
       "      <td>0</td>\n",
       "      <td>0</td>\n",
       "      <td>0</td>\n",
       "    </tr>\n",
       "    <tr>\n",
       "      <th>2</th>\n",
       "      <td>000113f07ec002fd</td>\n",
       "      <td>Hey man, I'm really not trying to edit war. It...</td>\n",
       "      <td>0</td>\n",
       "      <td>0</td>\n",
       "      <td>0</td>\n",
       "      <td>0</td>\n",
       "      <td>0</td>\n",
       "      <td>0</td>\n",
       "    </tr>\n",
       "    <tr>\n",
       "      <th>3</th>\n",
       "      <td>0001b41b1c6bb37e</td>\n",
       "      <td>\"\\nMore\\nI can't make any real suggestions on ...</td>\n",
       "      <td>0</td>\n",
       "      <td>0</td>\n",
       "      <td>0</td>\n",
       "      <td>0</td>\n",
       "      <td>0</td>\n",
       "      <td>0</td>\n",
       "    </tr>\n",
       "    <tr>\n",
       "      <th>4</th>\n",
       "      <td>0001d958c54c6e35</td>\n",
       "      <td>You, sir, are my hero. Any chance you remember...</td>\n",
       "      <td>0</td>\n",
       "      <td>0</td>\n",
       "      <td>0</td>\n",
       "      <td>0</td>\n",
       "      <td>0</td>\n",
       "      <td>0</td>\n",
       "    </tr>\n",
       "  </tbody>\n",
       "</table>\n",
       "</div>"
      ],
      "text/plain": [
       "                 id                                       comment_text  toxic  \\\n",
       "0  0000997932d777bf  Explanation\\nWhy the edits made under my usern...      0   \n",
       "1  000103f0d9cfb60f  D'aww! He matches this background colour I'm s...      0   \n",
       "2  000113f07ec002fd  Hey man, I'm really not trying to edit war. It...      0   \n",
       "3  0001b41b1c6bb37e  \"\\nMore\\nI can't make any real suggestions on ...      0   \n",
       "4  0001d958c54c6e35  You, sir, are my hero. Any chance you remember...      0   \n",
       "\n",
       "   severe_toxic  obscene  threat  insult  identity_hate  \n",
       "0             0        0       0       0              0  \n",
       "1             0        0       0       0              0  \n",
       "2             0        0       0       0              0  \n",
       "3             0        0       0       0              0  \n",
       "4             0        0       0       0              0  "
      ]
     },
     "execution_count": 21,
     "metadata": {},
     "output_type": "execute_result"
    }
   ],
   "source": [
    "train.head()"
   ]
  },
  {
   "cell_type": "code",
   "execution_count": 25,
   "metadata": {},
   "outputs": [
    {
     "data": {
      "text/plain": [
       "(159571, 8)"
      ]
     },
     "execution_count": 25,
     "metadata": {},
     "output_type": "execute_result"
    }
   ],
   "source": [
    "train.shape"
   ]
  },
  {
   "cell_type": "code",
   "execution_count": 22,
   "metadata": {},
   "outputs": [
    {
     "name": "stdout",
     "output_type": "stream",
     "text": [
      "total time 6.052999973297119\n"
     ]
    }
   ],
   "source": [
    "start_time=time.time()\n",
    "# remove '\\\\n'\n",
    "train['comment_text'] = train['comment_text'].map(lambda x: re.sub('\\\\n',' ',str(x)))\n",
    "    \n",
    "# remove any text starting with User... \n",
    "train['comment_text'] = train['comment_text'].map(lambda x: re.sub(\"\\[\\[User.*\",'',str(x)))\n",
    "    \n",
    "# remove IP addresses or user IDs\n",
    "train['comment_text'] = train['comment_text'].map(lambda x: re.sub(\"\\d{1,3}\\.\\d{1,3}\\.\\d{1,3}\\.\\d{1,3}\",'',str(x)))\n",
    "    \n",
    "#remove http links in the text\n",
    "train['comment_text'] = train['comment_text'].map(lambda x: re.sub(\"(http://.*?\\s)|(http://.*)\",'',str(x)))\n",
    "\n",
    "end_time=time.time()\n",
    "print(\"total time\",end_time-start_time)"
   ]
  },
  {
   "cell_type": "code",
   "execution_count": 23,
   "metadata": {
    "collapsed": true
   },
   "outputs": [],
   "source": [
    "# remove '\\\\n'\n",
    "holdout['comment_text'] = holdout['comment_text'].map(lambda x: re.sub('\\\\n',' ',str(x)))\n",
    "    \n",
    "# remove any text starting with User... \n",
    "holdout['comment_text'] = holdout['comment_text'].map(lambda x: re.sub(\"\\[\\[User.*\",'',str(x)))\n",
    "    \n",
    "# remove IP addresses or user IDs\n",
    "holdout['comment_text'] = holdout['comment_text'].map(lambda x: re.sub(\"\\d{1,3}\\.\\d{1,3}\\.\\d{1,3}\\.\\d{1,3}\",'',str(x)))\n",
    "    \n",
    "#remove http links in the text\n",
    "holdout['comment_text'] = holdout['comment_text'].map(lambda x: re.sub(\"(http://.*?\\s)|(http://.*)\",'',str(x)))"
   ]
  },
  {
   "cell_type": "code",
   "execution_count": 24,
   "metadata": {
    "collapsed": true
   },
   "outputs": [],
   "source": [
    "x = train['comment_text']\n",
    "y = train.iloc[:, 2:8]  "
   ]
  },
  {
   "cell_type": "code",
   "execution_count": 27,
   "metadata": {
    "collapsed": true
   },
   "outputs": [],
   "source": [
    "X_train, X_test, y_train, y_test = train_test_split(x, y, test_size= 0.2, random_state=13)"
   ]
  },
  {
   "cell_type": "code",
   "execution_count": 28,
   "metadata": {},
   "outputs": [
    {
     "name": "stdout",
     "output_type": "stream",
     "text": [
      "(127656,)\n",
      "(127656, 6)\n",
      "(31915,)\n",
      "(31915, 6)\n"
     ]
    }
   ],
   "source": [
    "print(X_train.shape)\n",
    "print(y_train.shape)\n",
    "print(X_test.shape)\n",
    "print(y_test.shape)"
   ]
  },
  {
   "cell_type": "code",
   "execution_count": 29,
   "metadata": {},
   "outputs": [
    {
     "name": "stdout",
     "output_type": "stream",
     "text": [
      "total time 37.07191276550293\n"
     ]
    }
   ],
   "source": [
    "start_time=time.time()\n",
    "\n",
    "# Instantiate the vectorizer\n",
    "word_vectorizer = TfidfVectorizer(\n",
    "    stop_words='english',\n",
    "    sublinear_tf=True,\n",
    "    strip_accents='unicode',\n",
    "    analyzer='word',\n",
    "    token_pattern=r'\\w{2,}',  #vectorize 2-character words or more\n",
    "    ngram_range=(1, 1),\n",
    "    max_features=30000)\n",
    "\n",
    "# fit and transform on it the training features\n",
    "word_vectorizer.fit(X_train)\n",
    "X_train_word_features = word_vectorizer.transform(X_train)\n",
    "\n",
    "#transform the test features to sparse matrix\n",
    "test_features = word_vectorizer.transform(X_test)\n",
    "\n",
    "# transform the holdout text for submission at the end\n",
    "holdout_text = holdout['comment_text']\n",
    "holdout_word_features = word_vectorizer.transform(holdout_text)\n",
    "\n",
    "end_time=time.time()\n",
    "print(\"total time\",end_time-start_time)"
   ]
  },
  {
   "cell_type": "code",
   "execution_count": 30,
   "metadata": {},
   "outputs": [
    {
     "name": "stdout",
     "output_type": "stream",
     "text": [
      "CV Log_loss score for class toxic is -0.11565060036541504\n",
      "CV Accuracy score for class toxic is 0.9589835178269303\n",
      "CV ROC_AUC score 0.9655633052947897\n",
      "\n",
      "[[28571   356]\n",
      " [  965  2023]]\n",
      "             precision    recall  f1-score   support\n",
      "\n",
      "          0       0.97      0.99      0.98     28927\n",
      "          1       0.85      0.68      0.75      2988\n",
      "\n",
      "avg / total       0.96      0.96      0.96     31915\n",
      "\n",
      "CV Log_loss score for class severe_toxic is -0.02870223173759266\n",
      "CV Accuracy score for class severe_toxic is 0.9901923827175312\n",
      "CV ROC_AUC score 0.9819670455594212\n",
      "\n",
      "[[31533    79]\n",
      " [  213    90]]\n",
      "             precision    recall  f1-score   support\n",
      "\n",
      "          0       0.99      1.00      1.00     31612\n",
      "          1       0.53      0.30      0.38       303\n",
      "\n",
      "avg / total       0.99      0.99      0.99     31915\n",
      "\n",
      "CV Log_loss score for class obscene is -0.06353778626883393\n",
      "CV Accuracy score for class obscene is 0.9784577368944316\n",
      "CV ROC_AUC score 0.9825812057362143\n",
      "\n",
      "[[30131   160]\n",
      " [  470  1154]]\n",
      "             precision    recall  f1-score   support\n",
      "\n",
      "          0       0.98      0.99      0.99     30291\n",
      "          1       0.88      0.71      0.79      1624\n",
      "\n",
      "avg / total       0.98      0.98      0.98     31915\n",
      "\n",
      "CV Log_loss score for class threat is -0.009942435696162542\n",
      "CV Accuracy score for class threat is 0.9972739219476136\n",
      "CV ROC_AUC score 0.977970323819499\n",
      "\n",
      "[[31811    14]\n",
      " [   66    24]]\n",
      "             precision    recall  f1-score   support\n",
      "\n",
      "          0       1.00      1.00      1.00     31825\n",
      "          1       0.63      0.27      0.38        90\n",
      "\n",
      "avg / total       1.00      1.00      1.00     31915\n",
      "\n",
      "CV Log_loss score for class insult is -0.08326876489595732\n",
      "CV Accuracy score for class insult is 0.9704596755459962\n",
      "CV ROC_AUC score 0.971019762833052\n",
      "\n",
      "[[30153   259]\n",
      " [  653   850]]\n",
      "             precision    recall  f1-score   support\n",
      "\n",
      "          0       0.98      0.99      0.99     30412\n",
      "          1       0.77      0.57      0.65      1503\n",
      "\n",
      "avg / total       0.97      0.97      0.97     31915\n",
      "\n",
      "CV Log_loss score for class identity_hate is -0.025804586888987187\n",
      "CV Accuracy score for class identity_hate is 0.9920646143217648\n",
      "CV ROC_AUC score 0.9725883716583562\n",
      "\n",
      "[[31590    48]\n",
      " [  204    73]]\n",
      "             precision    recall  f1-score   support\n",
      "\n",
      "          0       0.99      1.00      1.00     31638\n",
      "          1       0.60      0.26      0.37       277\n",
      "\n",
      "avg / total       0.99      0.99      0.99     31915\n",
      "\n",
      "Total average CV Log_loss score is -0.05448440097549145\n",
      "Total average CV ROC_AUC score is 0.9752816691502222\n"
     ]
    }
   ],
   "source": [
    "class_names = ['toxic','severe_toxic','obscene', 'threat', 'insult', 'identity_hate']\n",
    "\n",
    "losses = []\n",
    "auc = []\n",
    "\n",
    "for class_name in class_names:\n",
    "    #call the labels one column at a time so we can run the classifier on them\n",
    "    train_target = y_train[class_name]\n",
    "    test_target = y_test[class_name]\n",
    "    classifier = LogisticRegression(solver='sag', C=10)\n",
    "\n",
    "    cv_loss = np.mean(cross_val_score(classifier, X_train_word_features, train_target, cv=5, scoring='neg_log_loss'))\n",
    "    losses.append(cv_loss)\n",
    "    print('CV Log_loss score for class {} is {}'.format(class_name, cv_loss))\n",
    "\n",
    "    cv_score = np.mean(cross_val_score(classifier, X_train_word_features, train_target, cv=5, scoring='accuracy'))\n",
    "    print('CV Accuracy score for class {} is {}'.format(class_name, cv_score))\n",
    "    \n",
    "    classifier.fit(X_train_word_features, train_target)\n",
    "    y_pred = classifier.predict(test_features)\n",
    "    y_pred_prob = classifier.predict_proba(test_features)[:, 1]\n",
    "    auc_score = metrics.roc_auc_score(test_target, y_pred_prob)\n",
    "    auc.append(auc_score)\n",
    "    print(\"CV ROC_AUC score {}\\n\".format(auc_score))\n",
    "    \n",
    "    print(confusion_matrix(test_target, y_pred))\n",
    "    print(classification_report(test_target, y_pred))\n",
    "\n",
    "print('Total average CV Log_loss score is {}'.format(np.mean(losses)))\n",
    "print('Total average CV ROC_AUC score is {}'.format(np.mean(auc)))"
   ]
  },
  {
   "cell_type": "markdown",
   "metadata": {},
   "source": [
    "### Vectorize, Classify (with parameter tuning)"
   ]
  },
  {
   "cell_type": "code",
   "execution_count": 31,
   "metadata": {
    "collapsed": true
   },
   "outputs": [],
   "source": [
    "x = train['comment_text']\n",
    "y = train.iloc[:, 2:8]  \n",
    "X_train, X_test, y_train, y_test = train_test_split(x, y, test_size= 0.2, random_state=13)"
   ]
  },
  {
   "cell_type": "code",
   "execution_count": 32,
   "metadata": {},
   "outputs": [
    {
     "name": "stdout",
     "output_type": "stream",
     "text": [
      "total time 329.3189539909363\n"
     ]
    }
   ],
   "source": [
    "start_time=time.time()\n",
    "\n",
    "pipe = make_pipeline(TfidfVectorizer(\n",
    "                                    stop_words='english',\n",
    "                                    strip_accents='unicode',\n",
    "                                    token_pattern=r'\\w{1,}', #accept tokens that have 1 or more characters\n",
    "                                    analyzer='word',\n",
    "                                    ngram_range=(1, 1),\n",
    "                                    min_df=5),\n",
    "                     OneVsRestClassifier(LogisticRegression()))\n",
    "param_grid = {'tfidfvectorizer__max_features': [10000, 30000],\n",
    "              'onevsrestclassifier__estimator__solver': ['liblinear', 'sag'],\n",
    "             } \n",
    "grid = GridSearchCV(pipe, param_grid, cv=3, scoring='roc_auc')\n",
    "\n",
    "grid3 = grid.fit(X_train, y_train)\n",
    "\n",
    "end_time=time.time()\n",
    "print(\"total time\",end_time-start_time)"
   ]
  },
  {
   "cell_type": "code",
   "execution_count": 33,
   "metadata": {},
   "outputs": [
    {
     "name": "stdout",
     "output_type": "stream",
     "text": [
      "OneVsRestClassifier(estimator=LogisticRegression(C=1.0, class_weight=None, dual=False, fit_intercept=True,\n",
      "          intercept_scaling=1, max_iter=100, multi_class='ovr', n_jobs=1,\n",
      "          penalty='l2', random_state=None, solver='sag', tol=0.0001,\n",
      "          verbose=0, warm_start=False),\n",
      "          n_jobs=1)\n",
      "TfidfVectorizer(analyzer='word', binary=False, decode_error='strict',\n",
      "        dtype=<class 'numpy.int64'>, encoding='utf-8', input='content',\n",
      "        lowercase=True, max_df=1.0, max_features=30000, min_df=5,\n",
      "        ngram_range=(1, 1), norm='l2', preprocessor=None, smooth_idf=True,\n",
      "        stop_words='english', strip_accents='unicode', sublinear_tf=False,\n",
      "        token_pattern='\\\\w{1,}', tokenizer=None, use_idf=True,\n",
      "        vocabulary=None)\n"
     ]
    }
   ],
   "source": [
    "print(grid3.best_estimator_.named_steps['onevsrestclassifier'])\n",
    "print(grid3.best_estimator_.named_steps['tfidfvectorizer'])"
   ]
  },
  {
   "cell_type": "code",
   "execution_count": 34,
   "metadata": {},
   "outputs": [
    {
     "data": {
      "text/plain": [
       "{'onevsrestclassifier__estimator__solver': 'sag',\n",
       " 'tfidfvectorizer__max_features': 30000}"
      ]
     },
     "execution_count": 34,
     "metadata": {},
     "output_type": "execute_result"
    }
   ],
   "source": [
    "grid3.best_params_"
   ]
  },
  {
   "cell_type": "code",
   "execution_count": 35,
   "metadata": {},
   "outputs": [
    {
     "data": {
      "text/plain": [
       "0.97782430112632579"
      ]
     },
     "execution_count": 35,
     "metadata": {},
     "output_type": "execute_result"
    }
   ],
   "source": [
    "grid3.best_score_"
   ]
  },
  {
   "cell_type": "code",
   "execution_count": 36,
   "metadata": {
    "collapsed": true
   },
   "outputs": [],
   "source": [
    "predicted_y_test = grid3.predict(X_test)"
   ]
  },
  {
   "cell_type": "code",
   "execution_count": 38,
   "metadata": {},
   "outputs": [
    {
     "name": "stdout",
     "output_type": "stream",
     "text": [
      "Toxic Confusion Matrixs: \n",
      "[[28766   161]\n",
      " [ 1235  1753]]\n",
      "\n",
      "Severe Toxic: \n",
      "[[31558    54]\n",
      " [  234    69]]\n",
      "\n",
      "Obscene: \n",
      "[[30209    82]\n",
      " [  598  1026]]\n",
      "\n",
      "Threat: \n",
      "[[31815    10]\n",
      " [   76    14]]\n",
      "\n",
      "Insult: \n",
      "[[30235   177]\n",
      " [  755   748]]\n",
      "\n",
      "Identity Hate: \n",
      "[[31617    21]\n",
      " [  233    44]]\n",
      "\n",
      "Toxic Classification report: \n",
      "             precision    recall  f1-score   support\n",
      "\n",
      "          0       0.96      0.99      0.98     28927\n",
      "          1       0.92      0.59      0.72      2988\n",
      "\n",
      "avg / total       0.95      0.96      0.95     31915\n",
      "\n",
      "\n",
      "Severe Toxic: \n",
      "             precision    recall  f1-score   support\n",
      "\n",
      "          0       0.99      1.00      1.00     31612\n",
      "          1       0.56      0.23      0.32       303\n",
      "\n",
      "avg / total       0.99      0.99      0.99     31915\n",
      "\n",
      "\n",
      "Obscene: \n",
      "             precision    recall  f1-score   support\n",
      "\n",
      "          0       0.98      1.00      0.99     30291\n",
      "          1       0.93      0.63      0.75      1624\n",
      "\n",
      "avg / total       0.98      0.98      0.98     31915\n",
      "\n",
      "\n",
      "Threat: \n",
      "             precision    recall  f1-score   support\n",
      "\n",
      "          0       1.00      1.00      1.00     31825\n",
      "          1       0.58      0.16      0.25        90\n",
      "\n",
      "avg / total       1.00      1.00      1.00     31915\n",
      "\n",
      "\n",
      "Insult: \n",
      "             precision    recall  f1-score   support\n",
      "\n",
      "          0       0.98      0.99      0.98     30412\n",
      "          1       0.81      0.50      0.62      1503\n",
      "\n",
      "avg / total       0.97      0.97      0.97     31915\n",
      "\n",
      "\n",
      "Identity Hate: \n",
      "             precision    recall  f1-score   support\n",
      "\n",
      "          0       0.99      1.00      1.00     31638\n",
      "          1       0.68      0.16      0.26       277\n",
      "\n",
      "avg / total       0.99      0.99      0.99     31915\n",
      "\n"
     ]
    }
   ],
   "source": [
    "print(\"Toxic Confusion Matrixs: \\n{}\".format(confusion_matrix(y_test['toxic'], predicted_y_test[:,0])))\n",
    "print(\"\\nSevere Toxic: \\n{}\".format(confusion_matrix(y_test['severe_toxic'], predicted_y_test[:,1])))\n",
    "print(\"\\nObscene: \\n{}\".format(confusion_matrix(y_test['obscene'], predicted_y_test[:,2])))\n",
    "print(\"\\nThreat: \\n{}\".format(confusion_matrix(y_test['threat'], predicted_y_test[:,3])))\n",
    "print(\"\\nInsult: \\n{}\".format(confusion_matrix(y_test['insult'], predicted_y_test[:,4])))\n",
    "print(\"\\nIdentity Hate: \\n{}\".format(confusion_matrix(y_test['identity_hate'], predicted_y_test[:,5])))\n",
    "\n",
    "print(\"\\nToxic Classification report: \\n{}\".format(classification_report(y_test['toxic'], predicted_y_test[:,0])))\n",
    "print(\"\\nSevere Toxic: \\n{}\".format(classification_report(y_test['severe_toxic'], predicted_y_test[:,1])))\n",
    "print(\"\\nObscene: \\n{}\".format(classification_report(y_test['obscene'], predicted_y_test[:,2])))\n",
    "print(\"\\nThreat: \\n{}\".format(classification_report(y_test['threat'], predicted_y_test[:,3])))\n",
    "print(\"\\nInsult: \\n{}\".format(classification_report(y_test['insult'], predicted_y_test[:,4])))\n",
    "print(\"\\nIdentity Hate: \\n{}\".format(classification_report(y_test['identity_hate'], predicted_y_test[:,5])))\n",
    "#Toxic Confusion Matrixs: "
   ]
  },
  {
   "cell_type": "code",
   "execution_count": 39,
   "metadata": {},
   "outputs": [
    {
     "name": "stdout",
     "output_type": "stream",
     "text": [
      "Features with lowest tfidf:\n",
      "['overstating' 'tusc' 'leona' 'ashish' 'tvs' 'divorcing' 'chandler' 'spoon'\n",
      " 'ashoka' 'ashraf' 'chandigarh' 'sporadically' 'jurors' 'queues' 'diwan'\n",
      " 'grabs' 'sportsman' 'oppressing' 'warms' 'aslo']\n",
      "\n",
      "Features with highest tfidf: \n",
      "['russian' 'source' 'yes' 's' 'paranoia' 'called' 'template' 'natural'\n",
      " 'fish' 'soon' 'understand' 'fine' 'canon' 'nazi' 'inserted' 'solved'\n",
      " 'information' 'career' 'filter' 'pwned']\n"
     ]
    }
   ],
   "source": [
    "vectorizer = grid3.best_estimator_.named_steps[\"tfidfvectorizer\"]\n",
    "# transform the training dataset:\n",
    "X_test_set = vectorizer.transform(X_test)\n",
    "\n",
    "\n",
    "# find maximum value for each of the features over dataset:\n",
    "max_value = X_test_set.max(axis=0).toarray().ravel()\n",
    "sorted_by_tfidf = max_value.argsort()\n",
    "\n",
    "# get feature names\n",
    "feature_names = np.array(vectorizer.get_feature_names())\n",
    "\n",
    "print(\"Features with lowest tfidf:\\n{}\".format(\n",
    "      feature_names[sorted_by_tfidf[:20]]))\n",
    "\n",
    "print(\"\\nFeatures with highest tfidf: \\n{}\".format(\n",
    "      feature_names[sorted_by_tfidf[-20:]]))"
   ]
  },
  {
   "cell_type": "code",
   "execution_count": 40,
   "metadata": {},
   "outputs": [
    {
     "name": "stdout",
     "output_type": "stream",
     "text": [
      "Features with lowest idf:\n",
      "['s' 't' 'article' 'page' 'talk' 'wikipedia' 'just' 'like' 'don' 'think'\n",
      " 'know' 'm' 'edit' 'people' 'time' 'did' 'thanks' 'articles' 'make' 'use'\n",
      " 'good' 'does' 've' 'want' 'way' 'need' 'thank' 'information' 'editing'\n",
      " 'user' 'say' 'new' 'really' 'pages' 'sources' 'help' 'edits' 'look'\n",
      " 'section' 'add' 'source' 'wp' 'used' 'right' 'work' 'point' 'discussion'\n",
      " 'read' 'll' 'deleted' 'fact' 'utc' 'going' 'blocked' 'stop' 'said' 'd'\n",
      " 'added' 'sure' 'removed' 'link' 'let' 'better' 'doesn' 'reason' 'feel'\n",
      " 'list' 'place' 'actually' 'note' 'content' 'case' 'using' 'history' 'hi'\n",
      " 'believe' 'deletion' 'editors' 'free' '2' 'comment' 'things' 'person'\n",
      " 'question' 'personal' 'thing' '1' 'didn' 'ask' 'comments' 'vandalism'\n",
      " 'best' 'remove' 'hope' 'wrong' 'problem' 'little' 'trying' 'change' 'wiki']\n"
     ]
    }
   ],
   "source": [
    "sorted_by_idf = np.argsort(vectorizer.idf_)\n",
    "print(\"Features with lowest idf:\\n{}\".format(\n",
    "       feature_names[sorted_by_idf[:100]]))"
   ]
  },
  {
   "cell_type": "code",
   "execution_count": 41,
   "metadata": {
    "collapsed": true
   },
   "outputs": [],
   "source": [
    "holdout_comments = holdout['comment_text']\n",
    "# holdoutComments are automatically transformed throguh the grid3 pipeline before prodicting probabilities\n",
    "twod = grid3.predict_proba(holdout_comments)"
   ]
  },
  {
   "cell_type": "code",
   "execution_count": 42,
   "metadata": {
    "collapsed": true
   },
   "outputs": [],
   "source": [
    "holdout_predictions = {}\n",
    "holdout_predictions = {'id': holdout['id']}  \n",
    "\n",
    "holdout_predictions['toxic']=twod[:,0]\n",
    "holdout_predictions['severe_toxic']=twod[:,1]\n",
    "holdout_predictions['obscene']=twod[:,2]\n",
    "holdout_predictions['threat']=twod[:,3]\n",
    "holdout_predictions['insult']=twod[:,4]\n",
    "holdout_predictions['identity_hate']=twod[:,5]\n",
    "    \n",
    "submission = pd.DataFrame.from_dict(holdout_predictions)\n",
    "submission = submission[['id','toxic','severe_toxic','obscene','threat','insult','identity_hate']] #rearrange columns\n",
    "submission.to_csv('submission.csv', index=False)"
   ]
  },
  {
   "cell_type": "markdown",
   "metadata": {},
   "source": [
    "### Bonus: Adding features to pipeline"
   ]
  },
  {
   "cell_type": "code",
   "execution_count": 43,
   "metadata": {
    "collapsed": true
   },
   "outputs": [],
   "source": [
    "# calculate lenght of characters in each comment\n",
    "train['len_character'] = train['comment_text'].apply(lambda x: len(re.findall(r\"[\\w]\", str(x))))"
   ]
  },
  {
   "cell_type": "code",
   "execution_count": 44,
   "metadata": {
    "collapsed": true
   },
   "outputs": [],
   "source": [
    "from sklearn.preprocessing import FunctionTransformer\n",
    "from sklearn.pipeline import FeatureUnion #unites all arrays into one array\n",
    "from sklearn.pipeline import Pipeline"
   ]
  },
  {
   "cell_type": "code",
   "execution_count": 45,
   "metadata": {
    "collapsed": true
   },
   "outputs": [],
   "source": [
    "x = train[['comment_text','len_character']] #these will be our features\n",
    "y = train.iloc[:, 2:8]  \n",
    "X_train, X_test, y_train, y_test = train_test_split(x, y, test_size= 0.2, random_state=13)"
   ]
  },
  {
   "cell_type": "code",
   "execution_count": 46,
   "metadata": {},
   "outputs": [
    {
     "name": "stdout",
     "output_type": "stream",
     "text": [
      "(127656,)\n",
      "(127656, 1)\n"
     ]
    }
   ],
   "source": [
    "# Preprocess the numeric data: get_numeric_data\n",
    "get_numeric_data = FunctionTransformer(lambda a: a[['len_character']], validate=False)\n",
    "get_text_data = FunctionTransformer(lambda a: a['comment_text'], validate=False)\n",
    "\n",
    "print(get_text_data.fit_transform(X_train).shape)\n",
    "print(get_numeric_data.fit_transform(X_train).shape)"
   ]
  },
  {
   "cell_type": "code",
   "execution_count": 47,
   "metadata": {
    "collapsed": true
   },
   "outputs": [],
   "source": [
    "pl = Pipeline([\n",
    "        ('union', FeatureUnion(                      #unites both text and numeric arrays into one array\n",
    "            transformer_list = [\n",
    "                ('numeric_features', Pipeline([\n",
    "                    ('selector', get_numeric_data)\n",
    "                ])),\n",
    "                ('text_features', Pipeline([\n",
    "                    ('selector', get_text_data),\n",
    "                    ('vectorizer', TfidfVectorizer(\n",
    "                                                    stop_words='english',\n",
    "                                                    strip_accents='unicode',\n",
    "                                                    token_pattern=r'\\w{2,}',\n",
    "                                                    analyzer='word',\n",
    "                                                    ngram_range=(1, 1),\n",
    "                                                    min_df=5))\n",
    "                ]))\n",
    "             ]\n",
    "        )), #right here is where we would put interaction terms preprocessing such as PolynomialFeatures\n",
    "            #(right here is where we would put a scaler if we needed one)\n",
    "        ('clf', OneVsRestClassifier(LogisticRegression())) \n",
    "    ])"
   ]
  },
  {
   "cell_type": "code",
   "execution_count": 48,
   "metadata": {
    "collapsed": true
   },
   "outputs": [],
   "source": [
    "param_grid = {'union__text_features__vectorizer__max_features': [10000, 30000],\n",
    "              'clf__estimator__C': [0.1, 1]\n",
    "             } \n",
    "grid = GridSearchCV(pl, param_grid, cv=3, scoring='roc_auc')\n",
    "\n",
    "grid4 = grid.fit(X_train, y_train)"
   ]
  },
  {
   "cell_type": "code",
   "execution_count": 49,
   "metadata": {},
   "outputs": [
    {
     "name": "stdout",
     "output_type": "stream",
     "text": [
      "0.976986853037\n",
      "{'clf__estimator__C': 1, 'union__text_features__vectorizer__max_features': 30000}\n",
      "Pipeline(memory=None,\n",
      "     steps=[('union', FeatureUnion(n_jobs=1,\n",
      "       transformer_list=[('numeric_features', Pipeline(memory=None,\n",
      "     steps=[('selector', FunctionTransformer(accept_sparse=False,\n",
      "          func=<function <lambda> at 0x000001B9225000D0>, inv_kw_args=None,\n",
      "          inverse_func=None, kw_args=None, pass_y=...=None, solver='liblinear', tol=0.0001,\n",
      "          verbose=0, warm_start=False),\n",
      "          n_jobs=1))])\n"
     ]
    }
   ],
   "source": [
    "print(grid4.best_score_)\n",
    "print(grid4.best_params_)\n",
    "print(grid4.estimator)"
   ]
  },
  {
   "cell_type": "code",
   "execution_count": 50,
   "metadata": {},
   "outputs": [
    {
     "name": "stdout",
     "output_type": "stream",
     "text": [
      "Toxic Confusion Matrixs: \n",
      "[[28760   167]\n",
      " [ 1244  1744]]\n",
      "\n",
      "Severe Toxic: \n",
      "[[31556    56]\n",
      " [  229    74]]\n",
      "\n",
      "Obscene: \n",
      "[[30228    63]\n",
      " [  717   907]]\n",
      "\n",
      "Threat: \n",
      "[[31814    11]\n",
      " [   75    15]]\n",
      "\n",
      "Insult: \n",
      "[[30240   172]\n",
      " [  768   735]]\n",
      "\n",
      "Identity Hate: \n",
      "[[31616    22]\n",
      " [  230    47]]\n",
      "\n",
      "Toxic Classification report: \n",
      "             precision    recall  f1-score   support\n",
      "\n",
      "          0       0.96      0.99      0.98     28927\n",
      "          1       0.91      0.58      0.71      2988\n",
      "\n",
      "avg / total       0.95      0.96      0.95     31915\n",
      "\n",
      "\n",
      "Severe Toxic: \n",
      "             precision    recall  f1-score   support\n",
      "\n",
      "          0       0.99      1.00      1.00     31612\n",
      "          1       0.57      0.24      0.34       303\n",
      "\n",
      "avg / total       0.99      0.99      0.99     31915\n",
      "\n",
      "\n",
      "Obscene: \n",
      "             precision    recall  f1-score   support\n",
      "\n",
      "          0       0.98      1.00      0.99     30291\n",
      "          1       0.94      0.56      0.70      1624\n",
      "\n",
      "avg / total       0.97      0.98      0.97     31915\n",
      "\n",
      "\n",
      "Threat: \n",
      "             precision    recall  f1-score   support\n",
      "\n",
      "          0       1.00      1.00      1.00     31825\n",
      "          1       0.58      0.17      0.26        90\n",
      "\n",
      "avg / total       1.00      1.00      1.00     31915\n",
      "\n",
      "\n",
      "Insult: \n",
      "             precision    recall  f1-score   support\n",
      "\n",
      "          0       0.98      0.99      0.98     30412\n",
      "          1       0.81      0.49      0.61      1503\n",
      "\n",
      "avg / total       0.97      0.97      0.97     31915\n",
      "\n",
      "\n",
      "Identity Hate: \n",
      "             precision    recall  f1-score   support\n",
      "\n",
      "          0       0.99      1.00      1.00     31638\n",
      "          1       0.68      0.17      0.27       277\n",
      "\n",
      "avg / total       0.99      0.99      0.99     31915\n",
      "\n"
     ]
    }
   ],
   "source": [
    "pred_y_test = grid4.predict(X_test)\n",
    "\n",
    "print(\"Toxic Confusion Matrixs: \\n{}\".format(confusion_matrix(y_test['toxic'], pred_y_test[:,0])))\n",
    "print(\"\\nSevere Toxic: \\n{}\".format(confusion_matrix(y_test['severe_toxic'], pred_y_test[:,1])))\n",
    "print(\"\\nObscene: \\n{}\".format(confusion_matrix(y_test['obscene'], pred_y_test[:,2])))\n",
    "print(\"\\nThreat: \\n{}\".format(confusion_matrix(y_test['threat'], pred_y_test[:,3])))\n",
    "print(\"\\nInsult: \\n{}\".format(confusion_matrix(y_test['insult'], pred_y_test[:,4])))\n",
    "print(\"\\nIdentity Hate: \\n{}\".format(confusion_matrix(y_test['identity_hate'], pred_y_test[:,5])))\n",
    "\n",
    "print(\"\\nToxic Classification report: \\n{}\".format(classification_report(y_test['toxic'], pred_y_test[:,0])))\n",
    "print(\"\\nSevere Toxic: \\n{}\".format(classification_report(y_test['severe_toxic'], pred_y_test[:,1])))\n",
    "print(\"\\nObscene: \\n{}\".format(classification_report(y_test['obscene'], pred_y_test[:,2])))\n",
    "print(\"\\nThreat: \\n{}\".format(classification_report(y_test['threat'], pred_y_test[:,3])))\n",
    "print(\"\\nInsult: \\n{}\".format(classification_report(y_test['insult'], pred_y_test[:,4])))\n",
    "print(\"\\nIdentity Hate: \\n{}\".format(classification_report(y_test['identity_hate'], pred_y_test[:,5])))"
   ]
  },
  {
   "cell_type": "code",
   "execution_count": null,
   "metadata": {
    "collapsed": true
   },
   "outputs": [],
   "source": []
  }
 ],
 "metadata": {
  "kernelspec": {
   "display_name": "Python 3",
   "language": "python",
   "name": "python3"
  },
  "language_info": {
   "codemirror_mode": {
    "name": "ipython",
    "version": 3
   },
   "file_extension": ".py",
   "mimetype": "text/x-python",
   "name": "python",
   "nbconvert_exporter": "python",
   "pygments_lexer": "ipython3",
   "version": "3.6.6"
  }
 },
 "nbformat": 4,
 "nbformat_minor": 2
}
